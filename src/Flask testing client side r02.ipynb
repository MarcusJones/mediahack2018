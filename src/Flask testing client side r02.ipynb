{
 "cells": [
  {
   "cell_type": "code",
   "execution_count": 15,
   "metadata": {},
   "outputs": [],
   "source": [
    "import urllib as url\n",
    "import json\n",
    "import requests\n",
    "import os\n",
    "import cv2\n",
    "import matplotlib.pyplot as plt\n",
    "import scipy.io.wavfile"
   ]
  },
  {
   "cell_type": "markdown",
   "metadata": {},
   "source": [
    "**sentiment()**"
   ]
  },
  {
   "cell_type": "code",
   "execution_count": 16,
   "metadata": {},
   "outputs": [],
   "source": [
    "IP_ADDRESS = \"35.198.160.158\"\n",
    "IP_ADDRESS = \"127.0.0.1\"\n",
    "PORT = \"5000\""
   ]
  },
  {
   "cell_type": "code",
   "execution_count": 17,
   "metadata": {},
   "outputs": [
    {
     "name": "stdout",
     "output_type": "stream",
     "text": [
      "http://127.0.0.1:5000/sentiment\n",
      "{\"happy\": 0.6486157145055319, \"sad\": 0.5136208530067806, \"neutral\": 0.9051256059016047, \"angry\": 0.07012913646732843}\n"
     ]
    }
   ],
   "source": [
    "url_address = r\"http://\" + IP_ADDRESS + \":\" + PORT + r\"/\" + r\"sentiment\"\n",
    "print(url_address)\n",
    "r = url.request.urlopen(url_address)\n",
    "res = r.read().decode('utf8')\n",
    "#print(r)\n",
    "print(res)"
   ]
  },
  {
   "cell_type": "markdown",
   "metadata": {},
   "source": [
    "**emoji()**"
   ]
  },
  {
   "cell_type": "code",
   "execution_count": 18,
   "metadata": {},
   "outputs": [
    {
     "name": "stdout",
     "output_type": "stream",
     "text": [
      "http://127.0.0.1:5000/emoji\n",
      "<http.client.HTTPResponse object at 0x7fd5b00679b0>\n",
      "\"-neutral- :| http://url_neutral\"\n"
     ]
    }
   ],
   "source": [
    "url_address = r\"http://\" + IP_ADDRESS + \":\" + PORT + r\"/\" + r\"emoji\"\n",
    "print(url_address)\n",
    "r = url.request.urlopen(url_address)\n",
    "res = r.read().decode('utf8')\n",
    "print(r)\n",
    "print(res)"
   ]
  },
  {
   "cell_type": "markdown",
   "metadata": {},
   "source": [
    "**imagepush()**"
   ]
  },
  {
   "cell_type": "code",
   "execution_count": 19,
   "metadata": {},
   "outputs": [],
   "source": [
    "%%script false\n",
    "# Get image\n",
    "img_path = os.path.join(r\"/home/batman/git/mediahack2018/Flask_jsonify\",\"google-images-mallard-ducks.jpg\")\n",
    "\n",
    "img = cv2.imread(img_path)\n",
    "# encode image as jpeg\n",
    "_, img_encoded = cv2.imencode('.jpg', img)\n",
    "#plt.imshow(img)\n",
    "#cv2.imshow('DUCK',img)"
   ]
  },
  {
   "cell_type": "code",
   "execution_count": 20,
   "metadata": {},
   "outputs": [],
   "source": [
    "%%script false\n",
    "url_address = r\"http://\" + IP_ADDRESS + \":\" + PORT + r\"/\" + r\"imagepush\"\n",
    "\n",
    "# prepare headers for http request\n",
    "content_type = 'image/jpeg'\n",
    "headers = {'content-type': content_type}\n",
    "\n",
    "# send http request with image and receive response\n",
    "response = requests.post(url_address, data=img_encoded.tostring(), headers=headers)\n",
    "# decode response\n",
    "print(json.loads(response.text))\n",
    "\n",
    "# expected output: {u'message': u'image received. size=124x124'}"
   ]
  },
  {
   "cell_type": "markdown",
   "metadata": {},
   "source": [
    "**soundpush()**"
   ]
  },
  {
   "cell_type": "code",
   "execution_count": 27,
   "metadata": {},
   "outputs": [
    {
     "name": "stdout",
     "output_type": "stream",
     "text": [
      "http://127.0.0.1:5000/soundpush\n",
      "{\"name\": \"John\", \"age\": 30, \"city\": \"New York\"}\n"
     ]
    }
   ],
   "source": [
    "url_address = r\"http://\" + IP_ADDRESS + \":\" + PORT + r\"/\" + r\"soundpush\"\n",
    "\n",
    "# prepare headers for http request\n",
    "content_type = 'application/json'\n",
    "headers = {'content-type': content_type}\n",
    "\n",
    "# send http request with image and receive response\n",
    "data_dict={\"name\":\"John\", \"age\":30, \"city\":\"New York\"}\n",
    "data = json.dumps(data_dict)\n",
    "\n",
    "print(url_address)\n",
    "print(data)"
   ]
  },
  {
   "cell_type": "code",
   "execution_count": 28,
   "metadata": {},
   "outputs": [
    {
     "name": "stdout",
     "output_type": "stream",
     "text": [
      "<Response [200]>\n",
      "{'emoji': '-neutral- :| http://url_neutral', 'message': 'audio file recieved'}\n"
     ]
    }
   ],
   "source": [
    "response = requests.post(url_address, data=data, headers=headers)\n",
    "print(response)\n",
    "# decode response\n",
    "print(json.loads(response.text))\n",
    "\n",
    "# expected output: {u'message': u'image received. size=124x124'}"
   ]
  },
  {
   "cell_type": "code",
   "execution_count": 8,
   "metadata": {},
   "outputs": [],
   "source": [
    "# Get .wav\n",
    "#wav_path = os.path.join(r\"/home/batman/Dropbox/DATA/audio Ryerson/Audio_Speech_Actors_01-24/Actor_01\",\n",
    "#                        \"03-01-01-01-01-01-01.wav\")\n",
    "#scipy.io.wavfile.read(wav_path, mmap=False)"
   ]
  },
  {
   "cell_type": "code",
   "execution_count": 34,
   "metadata": {},
   "outputs": [
    {
     "name": "stdout",
     "output_type": "stream",
     "text": [
      "<Response [200]>\n",
      "{'emoji': 'ANGRY!!! >:(     http://url_happy', 'message': 'audio file recieved'}\n"
     ]
    }
   ],
   "source": [
    "url_address = r\"http://\" + IP_ADDRESS + \":\" + PORT + r\"/\" + r\"soundpush\"\n",
    "\n",
    "# prepare headers for http request\n",
    "content_type = 'application/json'\n",
    "headers = {'content-type': content_type}\n",
    "\n",
    "# send http request with image and receive response\n",
    "data_dict={\"name\":\"John\", \"age\":30, \"city\":\"New York\"}\n",
    "data = json.dumps(data_dict)\n",
    "response = requests.post(url_address, data=data, headers=headers)\n",
    "print(response)\n",
    "# decode response\n",
    "print(json.loads(response.text))\n",
    "\n",
    "# expected output: {u'message': u'image received. size=124x124'}"
   ]
  },
  {
   "cell_type": "code",
   "execution_count": null,
   "metadata": {},
   "outputs": [],
   "source": [
    "url_address = r\"http://\" + IP_ADDRESS + \":\" + PORT + r\"/\" + r\"soundpush\"\n",
    "print(url_address)\n",
    "r = url.request.urlopen(url_address)\n",
    "res = r.read().decode('utf8')\n",
    "#print(r)\n",
    "print(res)"
   ]
  },
  {
   "cell_type": "code",
   "execution_count": null,
   "metadata": {},
   "outputs": [],
   "source": []
  }
 ],
 "metadata": {
  "kernelspec": {
   "display_name": "Python 3",
   "language": "python",
   "name": "python3"
  },
  "language_info": {
   "codemirror_mode": {
    "name": "ipython",
    "version": 3
   },
   "file_extension": ".py",
   "mimetype": "text/x-python",
   "name": "python",
   "nbconvert_exporter": "python",
   "pygments_lexer": "ipython3",
   "version": "3.6.5"
  }
 },
 "nbformat": 4,
 "nbformat_minor": 2
}
